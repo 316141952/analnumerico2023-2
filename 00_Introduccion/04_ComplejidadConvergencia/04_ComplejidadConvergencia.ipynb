{
  "nbformat": 4,
  "nbformat_minor": 0,
  "metadata": {
    "kernelspec": {
      "display_name": "Python 3.7 (tensorflow)",
      "language": "python",
      "name": "tensorflow"
    },
    "language_info": {
      "codemirror_mode": {
        "name": "ipython",
        "version": 3
      },
      "file_extension": ".py",
      "mimetype": "text/x-python",
      "name": "python",
      "nbconvert_exporter": "python",
      "pygments_lexer": "ipython3",
      "version": "3.7.7"
    },
    "colab": {
      "name": "Complejidad_y_Convergencia.ipynb",
      "provenance": [],
      "toc_visible": true,
      "include_colab_link": true
    },
    "widgets": {
      "application/vnd.jupyter.widget-state+json": {
        "4a13a1b587414d7fac94adb71b4bc3a3": {
          "model_module": "@jupyter-widgets/controls",
          "model_name": "VBoxModel",
          "model_module_version": "1.5.0",
          "state": {
            "_dom_classes": [
              "widget-interact"
            ],
            "_model_module": "@jupyter-widgets/controls",
            "_model_module_version": "1.5.0",
            "_model_name": "VBoxModel",
            "_view_count": null,
            "_view_module": "@jupyter-widgets/controls",
            "_view_module_version": "1.5.0",
            "_view_name": "VBoxView",
            "box_style": "",
            "children": [
              "IPY_MODEL_d1eb3ec1ebd64bf1b4a73377171df233",
              "IPY_MODEL_cf7357b11b2f468782451c5437a17300"
            ],
            "layout": "IPY_MODEL_ca87bfa8b2364783a749c0a19f186268"
          }
        },
        "d1eb3ec1ebd64bf1b4a73377171df233": {
          "model_module": "@jupyter-widgets/controls",
          "model_name": "IntSliderModel",
          "model_module_version": "1.5.0",
          "state": {
            "_dom_classes": [],
            "_model_module": "@jupyter-widgets/controls",
            "_model_module_version": "1.5.0",
            "_model_name": "IntSliderModel",
            "_view_count": null,
            "_view_module": "@jupyter-widgets/controls",
            "_view_module_version": "1.5.0",
            "_view_name": "IntSliderView",
            "continuous_update": true,
            "description": "grado",
            "description_tooltip": null,
            "disabled": false,
            "layout": "IPY_MODEL_8ed35537c8054b5bb03e69d42e350bbf",
            "max": 10,
            "min": 0,
            "orientation": "horizontal",
            "readout": true,
            "readout_format": "d",
            "step": 1,
            "style": "IPY_MODEL_0f084462b8114d2fa20591630e2c2f0c",
            "value": 1
          }
        },
        "cf7357b11b2f468782451c5437a17300": {
          "model_module": "@jupyter-widgets/output",
          "model_name": "OutputModel",
          "model_module_version": "1.0.0",
          "state": {
            "_dom_classes": [],
            "_model_module": "@jupyter-widgets/output",
            "_model_module_version": "1.0.0",
            "_model_name": "OutputModel",
            "_view_count": null,
            "_view_module": "@jupyter-widgets/output",
            "_view_module_version": "1.0.0",
            "_view_name": "OutputView",
            "layout": "IPY_MODEL_7eb1990f15734e488ddfd28c16ff29cd",
            "msg_id": "",
            "outputs": [
              {
                "output_type": "display_data",
                "data": {
                  "text/plain": "<Figure size 432x288 with 1 Axes>",
                  "image/png": "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\n"
                },
                "metadata": {
                  "needs_background": "light"
                }
              }
            ]
          }
        },
        "ca87bfa8b2364783a749c0a19f186268": {
          "model_module": "@jupyter-widgets/base",
          "model_name": "LayoutModel",
          "model_module_version": "1.2.0",
          "state": {
            "_model_module": "@jupyter-widgets/base",
            "_model_module_version": "1.2.0",
            "_model_name": "LayoutModel",
            "_view_count": null,
            "_view_module": "@jupyter-widgets/base",
            "_view_module_version": "1.2.0",
            "_view_name": "LayoutView",
            "align_content": null,
            "align_items": null,
            "align_self": null,
            "border": null,
            "bottom": null,
            "display": null,
            "flex": null,
            "flex_flow": null,
            "grid_area": null,
            "grid_auto_columns": null,
            "grid_auto_flow": null,
            "grid_auto_rows": null,
            "grid_column": null,
            "grid_gap": null,
            "grid_row": null,
            "grid_template_areas": null,
            "grid_template_columns": null,
            "grid_template_rows": null,
            "height": null,
            "justify_content": null,
            "justify_items": null,
            "left": null,
            "margin": null,
            "max_height": null,
            "max_width": null,
            "min_height": null,
            "min_width": null,
            "object_fit": null,
            "object_position": null,
            "order": null,
            "overflow": null,
            "overflow_x": null,
            "overflow_y": null,
            "padding": null,
            "right": null,
            "top": null,
            "visibility": null,
            "width": null
          }
        },
        "8ed35537c8054b5bb03e69d42e350bbf": {
          "model_module": "@jupyter-widgets/base",
          "model_name": "LayoutModel",
          "model_module_version": "1.2.0",
          "state": {
            "_model_module": "@jupyter-widgets/base",
            "_model_module_version": "1.2.0",
            "_model_name": "LayoutModel",
            "_view_count": null,
            "_view_module": "@jupyter-widgets/base",
            "_view_module_version": "1.2.0",
            "_view_name": "LayoutView",
            "align_content": null,
            "align_items": null,
            "align_self": null,
            "border": null,
            "bottom": null,
            "display": null,
            "flex": null,
            "flex_flow": null,
            "grid_area": null,
            "grid_auto_columns": null,
            "grid_auto_flow": null,
            "grid_auto_rows": null,
            "grid_column": null,
            "grid_gap": null,
            "grid_row": null,
            "grid_template_areas": null,
            "grid_template_columns": null,
            "grid_template_rows": null,
            "height": null,
            "justify_content": null,
            "justify_items": null,
            "left": null,
            "margin": null,
            "max_height": null,
            "max_width": null,
            "min_height": null,
            "min_width": null,
            "object_fit": null,
            "object_position": null,
            "order": null,
            "overflow": null,
            "overflow_x": null,
            "overflow_y": null,
            "padding": null,
            "right": null,
            "top": null,
            "visibility": null,
            "width": null
          }
        },
        "0f084462b8114d2fa20591630e2c2f0c": {
          "model_module": "@jupyter-widgets/controls",
          "model_name": "SliderStyleModel",
          "model_module_version": "1.5.0",
          "state": {
            "_model_module": "@jupyter-widgets/controls",
            "_model_module_version": "1.5.0",
            "_model_name": "SliderStyleModel",
            "_view_count": null,
            "_view_module": "@jupyter-widgets/base",
            "_view_module_version": "1.2.0",
            "_view_name": "StyleView",
            "description_width": "",
            "handle_color": null
          }
        },
        "7eb1990f15734e488ddfd28c16ff29cd": {
          "model_module": "@jupyter-widgets/base",
          "model_name": "LayoutModel",
          "model_module_version": "1.2.0",
          "state": {
            "_model_module": "@jupyter-widgets/base",
            "_model_module_version": "1.2.0",
            "_model_name": "LayoutModel",
            "_view_count": null,
            "_view_module": "@jupyter-widgets/base",
            "_view_module_version": "1.2.0",
            "_view_name": "LayoutView",
            "align_content": null,
            "align_items": null,
            "align_self": null,
            "border": null,
            "bottom": null,
            "display": null,
            "flex": null,
            "flex_flow": null,
            "grid_area": null,
            "grid_auto_columns": null,
            "grid_auto_flow": null,
            "grid_auto_rows": null,
            "grid_column": null,
            "grid_gap": null,
            "grid_row": null,
            "grid_template_areas": null,
            "grid_template_columns": null,
            "grid_template_rows": null,
            "height": null,
            "justify_content": null,
            "justify_items": null,
            "left": null,
            "margin": null,
            "max_height": null,
            "max_width": null,
            "min_height": null,
            "min_width": null,
            "object_fit": null,
            "object_position": null,
            "order": null,
            "overflow": null,
            "overflow_x": null,
            "overflow_y": null,
            "padding": null,
            "right": null,
            "top": null,
            "visibility": null,
            "width": null
          }
        }
      }
    }
  },
  "cells": [
    {
      "cell_type": "markdown",
      "metadata": {
        "id": "view-in-github",
        "colab_type": "text"
      },
      "source": [
        "<a href=\"https://colab.research.google.com/github/jugernaut/MACTI-analisisnumerico/blob/desarrollo/00_Introduccion/04_ComplejidadConvergencia/04_ComplejidadConvergencia.ipynb\" target=\"_parent\"><img src=\"https://colab.research.google.com/assets/colab-badge.svg\" alt=\"Open In Colab\"/></a>"
      ]
    },
    {
      "cell_type": "markdown",
      "metadata": {
        "id": "ao1k_j_2sMY0"
      },
      "source": [
        "# Complejidad y Convergencia \n",
        "Profesor: M.en.C. Miguel Angel Pérez León.\n",
        "\n",
        "Ayudante: Jesús Iván Coss Calderón.\n",
        "\n",
        "Materia: Análisis Numérico."
      ]
    },
    {
      "cell_type": "markdown",
      "metadata": {
        "id": "gJ73MmHesMY1"
      },
      "source": [
        "##  Introducción\n",
        "\n",
        "Un **algoritmo** es un procedimiento que describe, sin ambiguedad, una serie finita de pasos a realizar en un orden especifico.\n",
        "\n",
        "La finalidad de un algoritmmo es poner en prática algún procedimiento para resolver un problema o **aproximarse a una solución** del problema.\n",
        "\n",
        "**Pseudocódigo** es la forma de representar un algoritmo, sin tener que emplear algún lenguaje de programación en especifico, pero lo suficientemente cercano a este, para que pueda escribirse en un lenguaje de programación con un par de cambios (como el pseudocódigo del algoritmo de Horner).\n",
        "\n",
        "Este pseudocódigo especifica la forma de la entrada por proporcionar y la forma de salida deseada."
      ]
    },
    {
      "cell_type": "markdown",
      "metadata": {
        "id": "qujunr8cVaUB"
      },
      "source": [
        "### Suma de los N primeros naturales\n",
        "\n",
        "No todos los algoritmos numéricos devuelven un resultado\n",
        "satisfactorio, para una entrada elegida.\n",
        "\n",
        "Como consecuencia, en cada algoritmo se incorpora alguna técnica\n",
        "(condición) para saber cuando es que debe detenerse,\n",
        "independientemente del método numérico empleado, esto con la\n",
        "finalidad de **evitar ciclos infinitos**."
      ]
    },
    {
      "cell_type": "markdown",
      "metadata": {
        "id": "16trTQb0sauO"
      },
      "source": [
        "#### Ejemplo\n",
        "\n",
        "Escriba el algoritmo para sumar los primeros n numeros naturales.\n",
        "\n",
        "$$\\sum_{i=1}^{n}i$$"
      ]
    },
    {
      "cell_type": "code",
      "metadata": {
        "id": "so4XKXmSsMY5",
        "outputId": "f86be84d-1b30-40f0-9372-5d675ca08625",
        "colab": {
          "base_uri": "https://localhost:8080/",
          "height": 67
        }
      },
      "source": [
        "n=int(input(\"Ingrese el numero hasta el cual se quiere sumar\\n\"))\n",
        "suma=0\n",
        "# la funcion range toma hasta un numero antes de n\n",
        "for i in range(n+1):\n",
        "    suma+=i\n",
        "\n",
        "print(\"La suma es: {}\".format(suma))"
      ],
      "execution_count": null,
      "outputs": [
        {
          "output_type": "stream",
          "text": [
            "Ingrese el numero hasta el cual se quiere sumar\n",
            "5\n",
            "La suma es: 15\n"
          ],
          "name": "stdout"
        }
      ]
    },
    {
      "cell_type": "markdown",
      "metadata": {
        "id": "DBRphS9qsMY9"
      },
      "source": [
        "Otro tipo de algoritmos son los que describen un procedimiento en\n",
        "términos matemáticos más complejos, como lo son las **series de Taylor**.\n",
        "\n",
        "### Serie de Taylor\n",
        "\n",
        "Es una serie finita de potencias que representa de manera exacta una función $f (x)$ al rededor de un punto $x = c$, siempre y cuando $n$ sea suficientemente \"grande\".\n",
        "\n",
        "$$ f(x) = f(c) + f^{'}(c)(x-c) + \\frac{f^{''}(c)(x-c)^{2}}{2!} + \\dots + \\frac{f^{n}(c)(x-c)^{n}}{n!} $$\n",
        "\n",
        "Si $c = 0$ se trata de la serie de Maclurin.\n",
        "\n",
        "Esta aproximación de $f (x)$ se conoce como la aproximación de $f (x)$\n",
        "en series de Taylor y dependiendo la derivada será el grado del\n",
        "polinomio de Taylor. Cabe recalcar, que a mayor grado del polinomio\n",
        "de Taylor será mayor la exactitud de la aproximación."
      ]
    },
    {
      "cell_type": "markdown",
      "metadata": {
        "id": "Uj3y7lBesmMR"
      },
      "source": [
        "#### Ejemplo\n",
        "\n",
        "Obtenga los seis primeros términos de la serie de Taylor para $f(x)= e^{x}$ alrededor del cero.\n",
        "\n",
        "**Solución**:\n",
        "    \n",
        "Al obtener las primeras 5 derivadas de la función se tiene \n",
        "\n",
        "$$f(x)= f^{1}(x)=f^{2}(x)=f^{3}(x)=f^{4}(x)=f^{5}(x)= e^{x}$$\n",
        "\n",
        "Posteriormente se evalua en el punto cero ($x=c=0$ )\n",
        "\n",
        "$$f(0)= f^{1}(0)=f^{2}(0)=f^{3}(0)=f^{4}(0)=f^{5}(0)= e^{0}=1$$\n",
        "\n",
        "Lo que da como resultado la siguiente expresión, que representa el\n",
        "polinomio de Taylor de $e^{x}$ al rededor del punto 0.\n",
        "\n",
        "$$ f(x) \\approx 1 + x + \\frac{x^{2}}{2!}+ \\frac{x^{3}}{3!}+ \\frac{x^{4}}{4!}+ \\frac{x^{5}}{5!} + \\dots  $$\n",
        "\n",
        "**Solución en python**:"
      ]
    },
    {
      "cell_type": "code",
      "metadata": {
        "id": "eKtMrvK5sMZH",
        "outputId": "d4e6d53e-cd58-4670-ff2b-57432beb5b3e",
        "colab": {
          "base_uri": "https://localhost:8080/",
          "height": 399,
          "referenced_widgets": [
            "4a13a1b587414d7fac94adb71b4bc3a3",
            "d1eb3ec1ebd64bf1b4a73377171df233",
            "cf7357b11b2f468782451c5437a17300",
            "ca87bfa8b2364783a749c0a19f186268",
            "8ed35537c8054b5bb03e69d42e350bbf",
            "0f084462b8114d2fa20591630e2c2f0c",
            "7eb1990f15734e488ddfd28c16ff29cd"
          ]
        }
      },
      "source": [
        "import matplotlib.pyplot as plt\n",
        "import numpy as np \n",
        "from scipy.interpolate import approximate_taylor_polynomial\n",
        "from IPython.html.widgets import interact\n",
        "import ipywidgets as widgets\n",
        "\n",
        "#@interact(grado=(0,10))\n",
        "def Taylor(grado):\n",
        "    x = np.linspace(-10.0, 10.0, num=100)\n",
        "    plt.plot(x, np.exp(x), label=\"función exponencial\",color='blue')\n",
        "    aprox_taylor = approximate_taylor_polynomial(np.exp, 0, grado, 1\\\n",
        "                                               ,order=grado+2)\n",
        "    plt.plot(x, aprox_taylor(x), label=\"Aproximación de Taylor de grado \" +str(grado),color='black')\n",
        "    plt.axis([-10, 10, -10, 10])\n",
        "    plt.legend()\n",
        "    plt.xlabel(r\"$x$\")\n",
        "    plt.ylabel(r\"$f(x)$\")\n",
        "    plt.title(\"Aproximación de Taylor \")\n",
        "    plt.grid()\n",
        "\n",
        "interact(Taylor,grado=widgets.IntSlider(min=0,max=10,step=1,value=0))"
      ],
      "execution_count": null,
      "outputs": [
        {
          "output_type": "stream",
          "name": "stderr",
          "text": [
            "/usr/local/lib/python3.8/dist-packages/IPython/html.py:12: ShimWarning: The `IPython.html` package has been deprecated since IPython 4.0. You should import from `notebook` instead. `IPython.html.widgets` has moved to `ipywidgets`.\n",
            "  warn(\"The `IPython.html` package has been deprecated since IPython 4.0. \"\n"
          ]
        },
        {
          "output_type": "display_data",
          "data": {
            "text/plain": [
              "interactive(children=(IntSlider(value=0, description='grado', max=10), Output()), _dom_classes=('widget-intera…"
            ],
            "application/vnd.jupyter.widget-view+json": {
              "version_major": 2,
              "version_minor": 0,
              "model_id": "4a13a1b587414d7fac94adb71b4bc3a3"
            }
          },
          "metadata": {}
        },
        {
          "output_type": "execute_result",
          "data": {
            "text/plain": [
              "<function __main__.Taylor(grado)>"
            ]
          },
          "metadata": {},
          "execution_count": 1
        }
      ]
    },
    {
      "cell_type": "markdown",
      "metadata": {
        "id": "auIipbwcsMZK"
      },
      "source": [
        "De tal manera que la siguiente expresión, se aproxima con 6\n",
        "terminos a $e^{x}$ al rededor del punto 0.\n",
        "\n",
        "$$ f(x) \\approx 1 + x + \\frac{x^{2}}{2!}+ \\frac{x^{3}}{3!}+ \\frac{x^{4}}{4!}+ \\frac{x^{5}}{5!} + \\dots  $$\n",
        "\n",
        "**Ejercicio**:\n",
        "\n",
        "Si se sabe que el valor exacto de $e^{0.5} = 1.6487212707$. Calcula\n",
        "el error relativo porcentual que se comete si se trunca la serie en\n",
        "seis términos. Emplea 6 decimales.\n",
        "\n",
        "**Solución en python**:"
      ]
    },
    {
      "cell_type": "code",
      "metadata": {
        "id": "m24HWhvpsMZM",
        "outputId": "93415cef-d4fb-4b6e-e51b-e937007012a1",
        "colab": {
          "base_uri": "https://localhost:8080/",
          "height": 228
        }
      },
      "source": [
        "import pandas as pd \n",
        "\n",
        "def ErrorTaylor(x):\n",
        "    ordenes=np.arange(6)\n",
        "    aprox_taylor=np.array([0.0]*6)\n",
        "    func_eval=np.zeros(6)\n",
        "    error=np.zeros_like(aprox_taylor)\n",
        "    for degree in ordenes:\n",
        "        PolTaylor = approximate_taylor_polynomial(np.exp, 0, degree, 1,order=degree+2)\n",
        "        aprox_taylor[degree]=PolTaylor(x)\n",
        "        func_eval[degree]=np.exp(x)\n",
        "        error[degree]=np.abs((aprox_taylor[degree]-func_eval[degree])/func_eval[degree])\n",
        "        \n",
        "    data={\"Termino\":[1,2,3,4,5,6],\"aproximacion\":aprox_taylor,\n",
        "          \"valor real\":func_eval,\"error\":error    \n",
        "    }\n",
        "    tabla=pd.DataFrame(data)\n",
        "    return tabla\n",
        "\n",
        "ErrorTaylor(0.5)"
      ],
      "execution_count": null,
      "outputs": [
        {
          "output_type": "execute_result",
          "data": {
            "text/plain": [
              "   Termino  aproximacion  valor real     error\n",
              "0        1      0.944804    1.648721  0.426947\n",
              "1        2      1.486893    1.648721  0.098154\n",
              "2        3      1.623448    1.648721  0.015329\n",
              "3        4      1.645711    1.648721  0.001826\n",
              "4        5      1.648429    1.648721  0.000177\n",
              "5        6      1.648697    1.648721  0.000015"
            ],
            "text/html": [
              "\n",
              "  <div id=\"df-cbfb0422-bac9-4104-9c3b-42fe8bf7a8f9\">\n",
              "    <div class=\"colab-df-container\">\n",
              "      <div>\n",
              "<style scoped>\n",
              "    .dataframe tbody tr th:only-of-type {\n",
              "        vertical-align: middle;\n",
              "    }\n",
              "\n",
              "    .dataframe tbody tr th {\n",
              "        vertical-align: top;\n",
              "    }\n",
              "\n",
              "    .dataframe thead th {\n",
              "        text-align: right;\n",
              "    }\n",
              "</style>\n",
              "<table border=\"1\" class=\"dataframe\">\n",
              "  <thead>\n",
              "    <tr style=\"text-align: right;\">\n",
              "      <th></th>\n",
              "      <th>Termino</th>\n",
              "      <th>aproximacion</th>\n",
              "      <th>valor real</th>\n",
              "      <th>error</th>\n",
              "    </tr>\n",
              "  </thead>\n",
              "  <tbody>\n",
              "    <tr>\n",
              "      <th>0</th>\n",
              "      <td>1</td>\n",
              "      <td>0.944804</td>\n",
              "      <td>1.648721</td>\n",
              "      <td>0.426947</td>\n",
              "    </tr>\n",
              "    <tr>\n",
              "      <th>1</th>\n",
              "      <td>2</td>\n",
              "      <td>1.486893</td>\n",
              "      <td>1.648721</td>\n",
              "      <td>0.098154</td>\n",
              "    </tr>\n",
              "    <tr>\n",
              "      <th>2</th>\n",
              "      <td>3</td>\n",
              "      <td>1.623448</td>\n",
              "      <td>1.648721</td>\n",
              "      <td>0.015329</td>\n",
              "    </tr>\n",
              "    <tr>\n",
              "      <th>3</th>\n",
              "      <td>4</td>\n",
              "      <td>1.645711</td>\n",
              "      <td>1.648721</td>\n",
              "      <td>0.001826</td>\n",
              "    </tr>\n",
              "    <tr>\n",
              "      <th>4</th>\n",
              "      <td>5</td>\n",
              "      <td>1.648429</td>\n",
              "      <td>1.648721</td>\n",
              "      <td>0.000177</td>\n",
              "    </tr>\n",
              "    <tr>\n",
              "      <th>5</th>\n",
              "      <td>6</td>\n",
              "      <td>1.648697</td>\n",
              "      <td>1.648721</td>\n",
              "      <td>0.000015</td>\n",
              "    </tr>\n",
              "  </tbody>\n",
              "</table>\n",
              "</div>\n",
              "      <button class=\"colab-df-convert\" onclick=\"convertToInteractive('df-cbfb0422-bac9-4104-9c3b-42fe8bf7a8f9')\"\n",
              "              title=\"Convert this dataframe to an interactive table.\"\n",
              "              style=\"display:none;\">\n",
              "        \n",
              "  <svg xmlns=\"http://www.w3.org/2000/svg\" height=\"24px\"viewBox=\"0 0 24 24\"\n",
              "       width=\"24px\">\n",
              "    <path d=\"M0 0h24v24H0V0z\" fill=\"none\"/>\n",
              "    <path d=\"M18.56 5.44l.94 2.06.94-2.06 2.06-.94-2.06-.94-.94-2.06-.94 2.06-2.06.94zm-11 1L8.5 8.5l.94-2.06 2.06-.94-2.06-.94L8.5 2.5l-.94 2.06-2.06.94zm10 10l.94 2.06.94-2.06 2.06-.94-2.06-.94-.94-2.06-.94 2.06-2.06.94z\"/><path d=\"M17.41 7.96l-1.37-1.37c-.4-.4-.92-.59-1.43-.59-.52 0-1.04.2-1.43.59L10.3 9.45l-7.72 7.72c-.78.78-.78 2.05 0 2.83L4 21.41c.39.39.9.59 1.41.59.51 0 1.02-.2 1.41-.59l7.78-7.78 2.81-2.81c.8-.78.8-2.07 0-2.86zM5.41 20L4 18.59l7.72-7.72 1.47 1.35L5.41 20z\"/>\n",
              "  </svg>\n",
              "      </button>\n",
              "      \n",
              "  <style>\n",
              "    .colab-df-container {\n",
              "      display:flex;\n",
              "      flex-wrap:wrap;\n",
              "      gap: 12px;\n",
              "    }\n",
              "\n",
              "    .colab-df-convert {\n",
              "      background-color: #E8F0FE;\n",
              "      border: none;\n",
              "      border-radius: 50%;\n",
              "      cursor: pointer;\n",
              "      display: none;\n",
              "      fill: #1967D2;\n",
              "      height: 32px;\n",
              "      padding: 0 0 0 0;\n",
              "      width: 32px;\n",
              "    }\n",
              "\n",
              "    .colab-df-convert:hover {\n",
              "      background-color: #E2EBFA;\n",
              "      box-shadow: 0px 1px 2px rgba(60, 64, 67, 0.3), 0px 1px 3px 1px rgba(60, 64, 67, 0.15);\n",
              "      fill: #174EA6;\n",
              "    }\n",
              "\n",
              "    [theme=dark] .colab-df-convert {\n",
              "      background-color: #3B4455;\n",
              "      fill: #D2E3FC;\n",
              "    }\n",
              "\n",
              "    [theme=dark] .colab-df-convert:hover {\n",
              "      background-color: #434B5C;\n",
              "      box-shadow: 0px 1px 3px 1px rgba(0, 0, 0, 0.15);\n",
              "      filter: drop-shadow(0px 1px 2px rgba(0, 0, 0, 0.3));\n",
              "      fill: #FFFFFF;\n",
              "    }\n",
              "  </style>\n",
              "\n",
              "      <script>\n",
              "        const buttonEl =\n",
              "          document.querySelector('#df-cbfb0422-bac9-4104-9c3b-42fe8bf7a8f9 button.colab-df-convert');\n",
              "        buttonEl.style.display =\n",
              "          google.colab.kernel.accessAllowed ? 'block' : 'none';\n",
              "\n",
              "        async function convertToInteractive(key) {\n",
              "          const element = document.querySelector('#df-cbfb0422-bac9-4104-9c3b-42fe8bf7a8f9');\n",
              "          const dataTable =\n",
              "            await google.colab.kernel.invokeFunction('convertToInteractive',\n",
              "                                                     [key], {});\n",
              "          if (!dataTable) return;\n",
              "\n",
              "          const docLinkHtml = 'Like what you see? Visit the ' +\n",
              "            '<a target=\"_blank\" href=https://colab.research.google.com/notebooks/data_table.ipynb>data table notebook</a>'\n",
              "            + ' to learn more about interactive tables.';\n",
              "          element.innerHTML = '';\n",
              "          dataTable['output_type'] = 'display_data';\n",
              "          await google.colab.output.renderOutput(dataTable, element);\n",
              "          const docLink = document.createElement('div');\n",
              "          docLink.innerHTML = docLinkHtml;\n",
              "          element.appendChild(docLink);\n",
              "        }\n",
              "      </script>\n",
              "    </div>\n",
              "  </div>\n",
              "  "
            ]
          },
          "metadata": {},
          "execution_count": 2
        }
      ]
    },
    {
      "cell_type": "markdown",
      "metadata": {
        "id": "M4GnymVqsMZV"
      },
      "source": [
        "## Complejidad Computacional\n",
        "\n",
        "Para poder desarrollar algoritmos eficientes y que den resultados\n",
        "útiles es necesario emplear algunas herramientas para su análisis."
      ]
    },
    {
      "cell_type": "markdown",
      "metadata": {
        "id": "ZJXvacXRLXWf"
      },
      "source": [
        "### Definición\n",
        "\n",
        "Complejidad Computacional: Es la rama de las ciencias de la computación que estudia de manera teórica, la optimización de los recursos requeridos durante la ejecución de un algoritmo.\n",
        "\n",
        "El análisis se basa en 2 aspectos: el tiempo y el espacio.\n",
        "\n",
        "El tiempo es el periodo transcurrido entre el inicio y la\n",
        "finalización del algoritmo.\n",
        "\n",
        "El espacio es la cantidad de memoria (la medida varia según la\n",
        "máquina) que necesita el algoritmo para su ejecución.\n",
        "\n",
        "**Complejidad Computacional $T(n)$**\n",
        "\n",
        "Es el número de operaciones elementales (*en el caso de análisis\n",
        "numérico las FLOP’s*) en función de la medida $n$ (tamaño de los\n",
        "datos).\n",
        "\n",
        "¿Cómo se mide?. Una vez que se tiene el algoritmo en forma de\n",
        "pseudocódigo, se puede dar una estimación de cuantas operaciones\n",
        "elementales se realizan en función de la entrada $n$.\n",
        "\n",
        "Sea cual sea el algoritmo, para llevar a cabo el análisis de la\n",
        "complejidad de dicho algoritmo, normalmente se toma en cuenta dos\n",
        "posibles casos: el peor caso y el caso promedio.\n",
        "\n",
        "**Peor Caso**: se calcula $T(n)$ asumiendo que $n$ es la ”peor” de todas o\n",
        "que de los posibles casos al ejecutar el algoritmo, se cae en el peor de\n",
        "ellos.\n",
        "\n",
        "**Caso Promedio**: se calcula promediando el tiempo (o espacio)\n",
        "empleado para cada una de las entradas posibles."
      ]
    },
    {
      "cell_type": "markdown",
      "metadata": {
        "id": "7utRUnLCWv1Y"
      },
      "source": [
        "## Cota Superior Asintótica\n",
        "\n",
        "Cota superior asintótica: En el análisis de algoritmos una cota superior asintótica es una\n",
        "función que sirve de cota superior de otra función cuando el\n",
        "argumento tiende a infinito.\n",
        "\n",
        "Usualmente se utiliza la notación Landau $O(g(x))$, orden de\n",
        "$g(x)$, o coloquialmente se llama ”Notación O Grande”, para\n",
        "referirse a las funciones acotadas superiormente por la función\n",
        "$g(x)$"
      ]
    },
    {
      "cell_type": "markdown",
      "metadata": {
        "id": "YdEJnOfAXewC"
      },
      "source": [
        "### Definición\n",
        "Cota superior asintótica: sea $g\\left(x\\right)$ una función continua y $f\\left(x\\right)$ la función que describe el comportamiento de nuestro algoritmo, diremos que $f$ pertenece al orden $g$ si.\n",
        "\n",
        "$$O\\left(g\\left(x\\right)\\right)=\\left\\{ f\\left(x\\right)\\colon\\exists\\,x_{0},c>0\\mid\\forall x\\geq x_{0}>0\\colon0\\leq\\left|f\\left(x\\right)\\right|\\leq c\\left|g\\left(x\\right)\\right|\\right\\} $$\n",
        "\n",
        "En el análisis de algoritmos una cota superior asintótica es una función que sirve de cota superior de otra función cuando el argumento tiende a infinito.\n",
        "\n",
        "Normalmente se utiliza la notación Landau $O(g(x))$, orden de $g(x)$, o coloquialmente se llama ”Notación O Grande”, para referirse a las funciones acotadas superiormente por la función $g(x)$\n",
        "\n",
        "<center>\n",
        "<img src=\"https://github.com/jugernaut/MACTI-analisisnumerico/blob/desarrollo/00_Introduccion/04_ComplejidadConvergencia/utils/figs/cotaSup.png?raw=1\" width=\"700\">\n",
        "</center>"
      ]
    },
    {
      "cell_type": "markdown",
      "metadata": {
        "id": "PBW8PVyGsMZW"
      },
      "source": [
        "Como te podrás dar cuenta, la cota superior asintótica nos sirve\n",
        "para definir categorías (orden de complejidad) dentro del\n",
        "desempeño de los mucho algoritmos existentes. Y esto sirve\n",
        "para poder identificar cuales algoritmos son mas eficientes que\n",
        "otros.\n",
        "\n",
        "\n",
        "\n",
        "\n",
        "| orden de Complejidad        | Nombre            | \n",
        "| :-:           |    :-:        | \n",
        "| $O(1) $       | Orden constante | \n",
        "| $O(log n) $   | Orden logarítmico     |\n",
        "| $O(n) $       | Orden lineal      |\n",
        "| $O(n log n) $ | Orden n log n      | \n",
        "| $O( n^{2}) $  | Orden cuadrático      | \n",
        "| $O( n^{a}) $  | Orden polinomial ($a>2$)     | \n",
        "| $O( a^{n}) $  | Orden exponencial ($a>2$)     | \n",
        "| $O( n!)    $  | Orden factorial      | \n",
        "\n",
        "A continuación se muestra las cotas (categorias) mas comúnes.\n",
        "<center>\n",
        "<img src=\"https://github.com/jugernaut/MACTI-analisisnumerico/blob/desarrollo/00_Introduccion/04_ComplejidadConvergencia/utils/figs/ordenes.png?raw=1\" width=\"700\">\n",
        "</center>"
      ]
    },
    {
      "cell_type": "markdown",
      "metadata": {
        "id": "DFbSSCXnsMZZ"
      },
      "source": [
        "##  Estabilidad de algoritmos\n",
        "\n",
        "Los algoritmos de interés para el análisis numérico, son aquellos\n",
        "que produzcan resultados precisos.\n",
        "\n",
        "Uno de los criterios que siempre se trata de imponer sobre un\n",
        "algoritmo, es que los cambios pequeños en los datos iniciales,\n",
        "produzcan otros correspondientes en los resultados finales. Un\n",
        "algoritmo que satisfaga esta propiedad es **estable**, en caso\n",
        "contrario es **inestable**.\n",
        "\n",
        "Algunos algoritmos solo son estables para ciertas elecciones de\n",
        "datos iniciales; a estos se les llama **condicionalmente estables**.\n",
        "\n",
        "A lo largo del curso analizaremos algoritmos tanto estables,\n",
        "como inestables y condicionalmente estables."
      ]
    },
    {
      "cell_type": "markdown",
      "metadata": {
        "id": "BrFHF9yVsMZa"
      },
      "source": [
        "##  Crecimiento del error\n",
        "\n",
        "Supongamos que al momento de ejecutar un algoritmo se genera un error inicial $E_{0} > 0$ en cierta\n",
        "etapa de los cálculos y $E_{n}$ repesenta la magnitud del error\n",
        "después de $n$ operaciones sucesivas. Los 2 casos que surgen con más\n",
        "frecuencia en la práctica se definen como sigue:"
      ]
    },
    {
      "cell_type": "markdown",
      "metadata": {
        "id": "ZHss2SiysMZb"
      },
      "source": [
        "\n",
        "### Definición\n",
        "\n",
        "Crecimiento del error: Si $E_{n} \\approx C_{n} E_{0} $ donde $C$ es una constante independiente de $n$, entonces se dice que el crecimiento del error es lineal. Si $E_{n} \\approx C^{n} E_{0} $ para alguna $C>1$, entonces el crecimiento del error se denomina exponencial.\n",
        "\n",
        "Normalmente el crecimiento lineal es inevitable y, cuando $C$ y $E_{0}$ son pequeños, por lo general los resultados son aceptables. Por otro lado hay que evitar el crecimiento exponencial del error, ya que el termino $C^{n}$ crece incluso para valores de n relativamente pequeños.\n",
        "\n",
        "En consecuencia un algoritmo con un crecimiento lineal del error es **estable**, pero no un algoritmo con crecimiento exponencial del error ya que se considera **inestable**.\n",
        "\n",
        "<center>\n",
        "<img src=\"https://github.com/jugernaut/MACTI-analisisnumerico/blob/desarrollo/00_Introduccion/04_ComplejidadConvergencia/utils/figs/crecimiento.png?raw=1\" width=\"700\">\n",
        "</center>\n"
      ]
    },
    {
      "cell_type": "markdown",
      "metadata": {
        "id": "tIRgcBRfsMZc"
      },
      "source": [
        "## Convergencia\n",
        "\n",
        "Muchos de los algoritmos que veremos en el curso, se pueden ver en forma de sucesiones y de estas sucesiones las que nos interesan son aquellas que cumplan con la definición de convergencia. Para mayor claridad con las definiciones de [series](https://colab.research.google.com/github/jugernaut/Prometeo/blob/master/01_Calculo/06_Series/01_Series.ipynb) revisar este jupyter y para [sucesiones](https://colab.research.google.com/github/jugernaut/Prometeo/blob/desarrollo/01_Calculo/05_Sucesiones/01_Sucesiones.ipynb). "
      ]
    },
    {
      "cell_type": "markdown",
      "metadata": {
        "id": "nq5xXHl9sMZd"
      },
      "source": [
        "### Definición\n",
        "\n",
        "Convergencia de suceciones: decimos que la sucesión $\\{a_n\\}$ converge a número real $a$ si y sólo si para toda $ \\epsilon > 0$ existe un número natural $N$ tal que si $n > N$ entonces $|a_n - a| < \\epsilon$. Si la sucesión $\\{a_n\\}$ converge a $a$, decimos que el límite de la sucesión $\\{a_n\\}$ es $a$ y escribimos $\\underset{n\\rightarrow\\infty}{lim}a_{n}=a$. De\n",
        "otro modo, la sucesión se denomina divergente."
      ]
    },
    {
      "cell_type": "markdown",
      "metadata": {
        "id": "OGnc4hTvmu1k"
      },
      "source": [
        "### Ejemplo\n",
        "La sucesión $\\frac{1}{n}$ converge a cero, esto es, $\\underset{n\\rightarrow\\infty}{lim} \\frac{1}{n} = 0$\n",
        "\n",
        "En la siguiente gráfica podemos observar que efectivamente ocurre esto:"
      ]
    },
    {
      "cell_type": "code",
      "metadata": {
        "id": "I_nBE9SCoMbb",
        "outputId": "8018d032-79d7-49d7-e467-1aa00c020ac3",
        "colab": {
          "base_uri": "https://localhost:8080/",
          "height": 458
        }
      },
      "source": [
        "# importamos bibliotecas necesarias para graficar\n",
        "!git clone https://github.com/joiortega1/Prueba_lectura.git\n",
        "import os\n",
        "os.listdir('Prueba_lectura')\n",
        "import Prueba_lectura.gutils\n",
        "import Prueba_lectura.gutils as vis\n",
        "\n",
        "# se genera la sucesion de valores\n",
        "num_suc = np.arange(1,100)\n",
        "sucesion2 = [1/i for i in num_suc]\n",
        "\n",
        "# parametros para graficar\n",
        "par = [{'xlabel':'$n$',\n",
        "        'ylabel':'$a_n$',\n",
        "       'xlim':(0.5,99.5)},\n",
        "       ]\n",
        "# se genera la grafica\n",
        "graf = vis.planoCartesiano(par=par)\n",
        "graf.scatter(x = num_suc, y = sucesion2, \n",
        "             par={'s':20,'color':'blue', 'label':r'Sucesión $a_n=\\frac{1}{n}$'})\n",
        "graf.plot(x=[0,100],y=[0,0], par={'c':'green','linestyle':'--', 'lw':2,'label':'Función constante 0'})\n",
        "graf.legend()\n",
        "graf.show()"
      ],
      "execution_count": null,
      "outputs": [
        {
          "output_type": "stream",
          "name": "stdout",
          "text": [
            "Cloning into 'Prueba_lectura'...\n",
            "remote: Enumerating objects: 21, done.\u001b[K\n",
            "remote: Counting objects: 100% (21/21), done.\u001b[K\n",
            "remote: Compressing objects: 100% (17/17), done.\u001b[K\n",
            "remote: Total 21 (delta 1), reused 0 (delta 0), pack-reused 0\u001b[K\n",
            "Unpacking objects: 100% (21/21), 11.52 KiB | 2.30 MiB/s, done.\n"
          ]
        },
        {
          "output_type": "display_data",
          "data": {
            "text/plain": [
              "<Figure size 720x360 with 1 Axes>"
            ],
            "image/png": "[encoded data removed]"
          },
          "metadata": {}
        }
      ]
    },
    {
      "cell_type": "markdown",
      "metadata": {
        "id": "pasgyAewcL-J"
      },
      "source": [
        "## Rapidez de convergencia\n",
        "\n",
        "Otra de las medidas importantes en el análisis de algoritmos y en el análisis numérico es la rapidez de convergencia. Esta métrica nos da un parámetro para determinar que tan rápido es un algortimo comparado con otro."
      ]
    },
    {
      "cell_type": "markdown",
      "metadata": {
        "id": "KP3suZUXcQrA"
      },
      "source": [
        "### Definición\n",
        "\n",
        "Rapidez de Convergencia: Supongamos que $\\{ \\beta_{n} \\}_{n=1}^{\\infty}$ es una sucesión cuyo valor de convergencia es cero y que $\\{ \\alpha_{n} \\}_{n=1}^{\\infty}$ converge a un número $\\alpha$. Si existe una constante positiva K tal que \n",
        "\n",
        "$$ | \\alpha_{n} -\\alpha | \\leq K | \\beta_{n}  |$$\n",
        "\n",
        "para n suficientemente grande, entonces decimos que $\\{ \\alpha_{n} \\}_{n=1}^{\\infty}$ converge a $\\alpha$ con rapidez de convergencia $ O(\\beta_{n})$.\n",
        "\n",
        "Esta expresión se lee ”O mayúscula de $\\beta_{n}$”. Se indica escribiendo $ \\alpha_{n} = \\alpha + O(\\beta_{n})$.\n",
        "\n",
        "Aunque esta definición permite comparar $\\{ \\alpha_{n} \\}_{n=1}^{\\infty}$ con cualquier sucesión en casi todas las situaciones emplearemos\n",
        "\n",
        "$$\\beta_{n} = \\frac{1}{n^{p}} $$\n",
        "\n",
        "para algún $p > 0$. Por lo general, buscaremos el mayor valor de $p$ tal que $ \\alpha_{n} = \\alpha + O( 1/n^{p})$."
      ]
    },
    {
      "cell_type": "markdown",
      "metadata": {
        "id": "Pd4u-M6UsMZd"
      },
      "source": [
        "### Ejemplo\n",
        "\n",
        "Suponga que para $n \\geq 1$,\n",
        "\n",
        "$$ \\alpha_{n} = \\frac{n+1}{n^{2}} \\hspace{1.5mm}\\text{y} \\hspace{2mm}\\tilde{\\alpha_{n}}=\\frac{n+3}{n^{3}}$$\n",
        "\n",
        "Encontrar cual de las dos sucesiones converge más rápido a cero.\n",
        "\n",
        "**Solución**.\n",
        "\n",
        "Aunque $\\underset{n\\rightarrow\\infty}{lim}\\alpha_{n}=0$   , la sucesión $\\{\\tilde{\\alpha_{n}}\\}_{n=1}^{\\infty}$ converge en este límite mucho más rápido que la suceción  $\\{ \\alpha_{n} \\}_{n=1}^{\\infty}$, usando aritmética de redondeo a cinco cifras, se puede apreciar en la siguiente tabla este comportamiento. Intenta generar esta tabla empleando **python**.\n",
        "\n",
        "| n        | 1            |  2 | 3|4 |5 |6 |7 |\n",
        "| :-:  | :-: | :-: |  :-: | :-:  |   :-: |   :-: |  :-: | \n",
        "| $\\alpha_{n} $  | 2.00000 |0.75000 |0.44444 |0.31250 |0.24000 |0.19444 |0.16237|\n",
        "| $\\tilde{\\alpha_{n}} $ | 4.00000 |0.65500    |0.22222 | 0.10938|0.64000 |0.04166 |0.0915|\n",
        "\n",
        "\n",
        "Si $\\{ \\beta_{n} \\}_{n=1}^{\\infty}=1/n \\quad$    y     $\\quad\\{\\tilde{\\beta_{n}}\\}_{n=1}^{\\infty}=1/n^{2}$ , vemos que \n",
        "\n",
        "$$ | \\alpha_{n} -0 |= \\frac{n+1}{n^{2}} \\leq \\frac{n+n}{n^{2}}= 2 \\frac{1}{n} = 2 \\beta_{n}$$\n",
        "\n",
        "y\n",
        "\n",
        "$$ | \\tilde{\\alpha_{n}} -0 |= \\frac{n+3}{n^{3}} \\leq \\frac{n+3n}{n^{3}}= 4 \\frac{1}{n^{2}} = 4 \\tilde{\\beta_{n}}\\$$\n",
        "\n",
        "de modo que \n",
        "\n",
        "$$ \\alpha_{n} = 0+ O( \\frac{1}{n} ) \\hspace{1.5mm}\\text{y} \\hspace{2mm} \\tilde{\\alpha_{n}}= 0+ O( \\frac{1}{n^{2}} ) $$\n",
        "\n",
        "La rapidez de convergencia de $\\{ \\alpha_{n} \\}_{n=1}^{\\infty}$ a cero es similar a la convergencia de $\\{ 1/n \\}$ a cero, mientras que la rapidez de convergencia de $\\{\\tilde{\\alpha_{n}}\\}_{n=1}^{\\infty}$ a cero es similar a la convergencia de $\\{ 1/n^{2} \\}$, la cual converge más rápido.\n",
        "\n",
        "También se emplea la notación ”O mayúscula” para describir la\n",
        "rapidez de convergencia de funciones.\n"
      ]
    },
    {
      "cell_type": "markdown",
      "metadata": {
        "id": "c3jjc6bvsMZe"
      },
      "source": [
        "## Referencias\n",
        "1. Richard L. Burden, J, Douglas Faires: Análisis Numérico, Math Learning.\n",
        "2. Ward Cheney, David Kincaid: Métodos Numéricos y Computación, Cenage Learning.\n",
        "3. Riswan Butt: Numerical Analysis Using Matlab, Jones and Barlett.\n",
        "4. Proyecto PAPIME PE101019: notebook Sucesiones\n",
        "\n",
        "\n"
      ]
    }
  ]
}